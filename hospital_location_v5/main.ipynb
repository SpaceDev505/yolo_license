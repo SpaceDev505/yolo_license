{
 "cells": [
  {
   "cell_type": "code",
   "execution_count": 1,
   "metadata": {},
   "outputs": [
    {
     "name": "stdout",
     "output_type": "stream",
     "text": [
      "f:\\11yue\\hospital_location\n"
     ]
    }
   ],
   "source": [
    "!cd"
   ]
  },
  {
   "cell_type": "code",
   "execution_count": 2,
   "metadata": {},
   "outputs": [
    {
     "name": "stdout",
     "output_type": "stream",
     "text": [
      "\u001b[31m\u001b[1mrequirements:\u001b[0m F:\\11yue\\hospital_location\\requirements.txt not found, check failed.\n"
     ]
    },
    {
     "name": "stderr",
     "output_type": "stream",
     "text": [
      "c:\\Users\\Phoenix\\anaconda3\\lib\\site-packages\\scipy\\__init__.py:146: UserWarning: A NumPy version >=1.16.5 and <1.23.0 is required for this version of SciPy (detected version 1.23.4\n",
      "  warnings.warn(f\"A NumPy version >={np_minversion} and <{np_maxversion}\"\n",
      "\u001b[34m\u001b[1mdetect: \u001b[0mweights=['best.pt'], source=./test2, data=data\\coco128.yaml, imgsz=[416, 416], conf_thres=0.75, iou_thres=0.45, max_det=1000, device=, view_img=False, save_txt=False, save_conf=False, save_crop=False, nosave=False, classes=None, agnostic_nms=False, augment=False, visualize=False, update=False, project=runs\\detect, name=exp, exist_ok=False, line_thickness=3, hide_labels=False, hide_conf=False, half=False, dnn=False, vid_stride=1\n",
      "YOLOv5  2022-10-13 Python-3.9.12 torch-1.13.0+cpu CPU\n",
      "\n",
      "Fusing layers... \n",
      "Model summary: 157 layers, 7020913 parameters, 0 gradients\n",
      "image 1/13 F:\\11yue\\hospital_location\\test2\\AlAkbarFastFoodCorner.png: 320x416 1 hospital, 2 roads, 463.2ms\n",
      "image 2/13 F:\\11yue\\hospital_location\\test2\\AliCafe.png: 320x416 (no detections), 82.9ms\n",
      "image 3/13 F:\\11yue\\hospital_location\\test2\\Capstone_G18DrKNarendarbabu.png: 320x416 1 highway, 86.9ms\n",
      "image 4/13 F:\\11yue\\hospital_location\\test2\\GoldenCafeChineseFastFood.png: 320x416 1 hospital, 2 roads, 83.9ms\n",
      "image 5/13 F:\\11yue\\hospital_location\\test2\\GopiHotel.png: 320x416 (no detections), 81.0ms\n",
      "image 6/13 F:\\11yue\\hospital_location\\test2\\KohinoorFoodLimited.png: 320x416 1 busstop, 78.1ms\n",
      "image 7/13 F:\\11yue\\hospital_location\\test2\\NoorFastFootCentre.png: 320x416 1 busstop, 86.6ms\n",
      "image 8/13 F:\\11yue\\hospital_location\\test2\\SHAHRANHOTEL.png: 320x416 1 hospital, 2 roads, 85.9ms\n",
      "image 9/13 F:\\11yue\\hospital_location\\test2\\StandardCaterers.png: 320x416 1 hospital, 2 roads, 146.4ms\n",
      "image 10/13 F:\\11yue\\hospital_location\\test2\\SwagathHotel.png: 320x416 1 hospital, 92.7ms\n",
      "image 11/13 F:\\11yue\\hospital_location\\test2\\SwastikGeneralStore.png: 320x416 1 hospital, 2 roads, 83.0ms\n",
      "image 12/13 F:\\11yue\\hospital_location\\test2\\TajRestaurant.png: 320x416 (no detections), 78.1ms\n",
      "image 13/13 F:\\11yue\\hospital_location\\test2\\jagguhalwai.png: 320x416 2 hospitals, 83.0ms\n",
      "Speed: 2.0ms pre-process, 117.8ms inference, 6.5ms NMS per image at shape (1, 3, 416, 416)\n",
      "Results saved to \u001b[1mruns\\detect\\exp2\u001b[0m\n",
      "10 labels saved to runs\\detect\\exp2\\labels\n"
     ]
    }
   ],
   "source": [
    "!python detect.py --weights best.pt --img 416 --conf 0.75 --source ./test2"
   ]
  },
  {
   "cell_type": "code",
   "execution_count": 3,
   "metadata": {},
   "outputs": [
    {
     "name": "stderr",
     "output_type": "stream",
     "text": [
      "c:\\Users\\Phoenix\\anaconda3\\lib\\site-packages\\scipy\\__init__.py:146: UserWarning: A NumPy version >=1.16.5 and <1.23.0 is required for this version of SciPy (detected version 1.23.4\n",
      "  warnings.warn(f\"A NumPy version >={np_minversion} and <{np_maxversion}\"\n"
     ]
    }
   ],
   "source": [
    "import glob\n",
    "import re\n",
    "import cv2\n",
    "import matplotlib.pyplot as plt\n",
    "import numpy as np\n",
    "from tensorflow import keras\n",
    "import csv"
   ]
  },
  {
   "cell_type": "code",
   "execution_count": 4,
   "metadata": {},
   "outputs": [],
   "source": [
    "def preprocessing_image(filepath):\n",
    "  img = cv2.imread(filepath) \n",
    "  img = cv2.cvtColor(img,cv2.COLOR_RGB2BGR) \n",
    "  img = cv2.resize(img,(196,196))  \n",
    "  img = img / 255\n",
    "  return img"
   ]
  },
  {
   "cell_type": "code",
   "execution_count": 5,
   "metadata": {},
   "outputs": [
    {
     "data": {
      "text/plain": [
       "22"
      ]
     },
     "execution_count": 5,
     "metadata": {},
     "output_type": "execute_result"
    }
   ],
   "source": [
    "f = open('result.csv', 'w', encoding='UTF8')\n",
    "writer = csv.writer(f)\n",
    "header = [\"img file path\", \"result\"]\n",
    "writer.writerow(header)"
   ]
  },
  {
   "cell_type": "code",
   "execution_count": 6,
   "metadata": {},
   "outputs": [],
   "source": [
    "imagespath=glob.glob('./runs/detect/exp/*.png')\n",
    "labelspath=glob.glob('./runs/detect/exp/labels/*.txt')"
   ]
  },
  {
   "cell_type": "code",
   "execution_count": 7,
   "metadata": {},
   "outputs": [
    {
     "name": "stdout",
     "output_type": "stream",
     "text": [
      "13\n",
      "10\n"
     ]
    }
   ],
   "source": [
    "print(imagespath.__len__())\n",
    "print(labelspath.__len__())"
   ]
  },
  {
   "cell_type": "code",
   "execution_count": 8,
   "metadata": {},
   "outputs": [
    {
     "name": "stdout",
     "output_type": "stream",
     "text": [
      "./runs/detect/exp\\AlAkbarFastFoodCorner.png\n"
     ]
    }
   ],
   "source": [
    "print(imagespath[0])"
   ]
  },
  {
   "cell_type": "code",
   "execution_count": 9,
   "metadata": {},
   "outputs": [
    {
     "data": {
      "text/plain": [
       "'Capstone_G18DrKNarendarbabu.'"
      ]
     },
     "execution_count": 9,
     "metadata": {},
     "output_type": "execute_result"
    }
   ],
   "source": [
    "imagespath[2][18:-3]"
   ]
  },
  {
   "cell_type": "code",
   "execution_count": 10,
   "metadata": {},
   "outputs": [],
   "source": [
    "# 0- busstop\n",
    "# 1- highway \n",
    "# 2- hospital\n",
    "# 3- road"
   ]
  },
  {
   "cell_type": "code",
   "execution_count": 15,
   "metadata": {},
   "outputs": [],
   "source": [
    "lst_imagepath=[]\n",
    "lst_result=[]"
   ]
  },
  {
   "cell_type": "code",
   "execution_count": 16,
   "metadata": {},
   "outputs": [
    {
     "name": "stdout",
     "output_type": "stream",
     "text": [
      "1/1 [==============================] - 0s 115ms/step\n",
      "1/1 [==============================] - 0s 126ms/step\n",
      "1/1 [==============================] - 0s 111ms/step\n"
     ]
    }
   ],
   "source": [
    "for c in range(0,200):     #imagespath.__len__()\n",
    "    match = [s for s in labelspath if (imagespath[c][18:-3]+'txt') in s]\n",
    "    # print(match)\n",
    "    if match.__len__()==0:\n",
    "        # row=[imagespath[0],'bad']\n",
    "        # writer.writerow(row)\n",
    "        lst_imagepath.append(imagespath[c])\n",
    "        lst_result.append('bad')\n",
    "    else:\n",
    "        data=open(match[0],'r')\n",
    "        data=data.read()\n",
    "        data=data.split( )\n",
    "        labels=[]\n",
    "        for j in range(0,int((data.__len__())/5)):\n",
    "            labels.append(data[j*5])\n",
    "        # print(labels)\n",
    "        busstop=labels.count('0')\n",
    "        highway=labels.count('1')\n",
    "        hospital=labels.count('2')\n",
    "        road=labels.count('3')\n",
    "        if highway==0:\n",
    "            highway=0\n",
    "        else:\n",
    "            highway=1\n",
    "        if road==0:\n",
    "            road=0\n",
    "        else:\n",
    "            road=1    \n",
    "        estimate=busstop+highway+road-hospital\n",
    "        if estimate==1 or estimate==2:\n",
    "            # filename=datas[5][25:-4]\n",
    "            # imgpath='./runs/detect/exp/'+filename+'.png'\n",
    "            imgs=preprocessing_image(imagespath[c])\n",
    "            # ewe=cv2.imread(imgpath)\n",
    "            # plt.imshow(ewe)\n",
    "            # print(imgs.shape)       \n",
    "            model = keras.models.load_model('./classification.h5')\n",
    "            pred = model.predict(np.array([imgs]))\n",
    "            pred = pred.reshape(-1)\n",
    "            for i in pred:\n",
    "                if i>=0.5:\n",
    "                    bg=1\n",
    "                else:\n",
    "                    bg=-1\n",
    "            estimate=estimate+bg\n",
    "        # print(estimate)\n",
    "        if estimate>=2:\n",
    "            # row=[imagespath[i],'good']\n",
    "            # writer.writerow(row)\n",
    "            lst_imagepath.append(imagespath[c])\n",
    "            lst_result.append('good')\n",
    "        else:\n",
    "            # row=[imagespath[i],'bad']\n",
    "            # writer.writerow(row)\n",
    "            lst_imagepath.append(imagespath[c])\n",
    "            lst_result.append('bad')\n",
    "\n",
    "\n",
    "\n",
    "\n"
   ]
  },
  {
   "cell_type": "code",
   "execution_count": 17,
   "metadata": {},
   "outputs": [
    {
     "name": "stdout",
     "output_type": "stream",
     "text": [
      "13\n",
      "13\n"
     ]
    }
   ],
   "source": [
    "print(lst_imagepath.__len__())\n",
    "print(lst_result.__len__())"
   ]
  },
  {
   "cell_type": "code",
   "execution_count": 50,
   "metadata": {},
   "outputs": [],
   "source": [
    "for i in range(0,lst_imagepath.__len__()):\n",
    "    row=[lst_imagepath[i],lst_result[i]]\n",
    "    writer.writerow(row)"
   ]
  },
  {
   "cell_type": "code",
   "execution_count": 51,
   "metadata": {},
   "outputs": [],
   "source": [
    "f.close()"
   ]
  }
 ],
 "metadata": {
  "kernelspec": {
   "display_name": "Python 3.9.12 ('base')",
   "language": "python",
   "name": "python3"
  },
  "language_info": {
   "codemirror_mode": {
    "name": "ipython",
    "version": 3
   },
   "file_extension": ".py",
   "mimetype": "text/x-python",
   "name": "python",
   "nbconvert_exporter": "python",
   "pygments_lexer": "ipython3",
   "version": "3.9.12"
  },
  "orig_nbformat": 4,
  "vscode": {
   "interpreter": {
    "hash": "19161fe5adee468d96f15f9c0576ca3152dfaefcdb0b1f565ae06e48e8cf08f0"
   }
  }
 },
 "nbformat": 4,
 "nbformat_minor": 2
}
